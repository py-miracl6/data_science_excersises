{
 "cells": [
  {
   "cell_type": "markdown",
   "metadata": {},
   "source": [
    "# Описание\n",
    "\n",
    "**employees** Таблица с информацией по сотрудникам\n",
    "\n",
    "- emp_no - id сотрудника\n",
    "- title - Название должности\n",
    "- birth_date - дата рождения\n",
    "- first_name - Имя\n",
    "- first_name - Фамилия\n",
    "- gender - пол\n",
    "- hire_date - первая дата устройства на работу\n",
    "\n",
    "**dept_emp** - Таблица с информацией в каком департаменте работает сотрудник\n",
    "\n",
    "- emp_no - id сотрудника\n",
    "- dept_name - Название департамента\n",
    "- from_date - дата начала работы в департаменте\n",
    "- to_date - дата ококнчания работы в департаменте (если 9999-01-01 - то работает по наст время)\n",
    "\n",
    "\n",
    "**dept_manager** - Таблица с информацией в каком департаменте работает менеджер\n",
    "\n",
    "- emp_no - id менеджера (сотрудника)\n",
    "- dept_name - Название департамента\n",
    "- from_date - дата начала работы в департаменте\n",
    "- to_date - дата ококнчания работы в департаменте (если 9999-01-01 - то работает по наст время)\n",
    "\n",
    "\n",
    "**salaries** - Таблица с информацией о зарплатах сотрудников\n",
    "\n",
    "- emp_no - id сотрудника\n",
    "- salaries - Зарплата"
   ]
  },
  {
   "cell_type": "code",
   "execution_count": 1,
   "metadata": {},
   "outputs": [],
   "source": [
    "%load_ext sql"
   ]
  },
  {
   "cell_type": "markdown",
   "metadata": {},
   "source": [
    "Укажите путь до места сохранения EmployeeSQL.db, данный путь был приведен в качестве примера"
   ]
  },
  {
   "cell_type": "code",
   "execution_count": 2,
   "metadata": {},
   "outputs": [],
   "source": [
    "%sql sqlite:///../../data/EmployeeSQL/EmployeeSQL.db"
   ]
  },
  {
   "cell_type": "code",
   "execution_count": 3,
   "metadata": {},
   "outputs": [
    {
     "name": "stdout",
     "output_type": "stream",
     "text": [
      " * sqlite:///../../data/EmployeeSQL/EmployeeSQL.db\n",
      "Done.\n"
     ]
    },
    {
     "data": {
      "text/html": [
       "<table>\n",
       "    <tr>\n",
       "        <th>name</th>\n",
       "    </tr>\n",
       "    <tr>\n",
       "        <td>employees</td>\n",
       "    </tr>\n",
       "    <tr>\n",
       "        <td>dept_manager</td>\n",
       "    </tr>\n",
       "    <tr>\n",
       "        <td>dept_emp</td>\n",
       "    </tr>\n",
       "    <tr>\n",
       "        <td>salaries</td>\n",
       "    </tr>\n",
       "    <tr>\n",
       "        <td>uniq_empl</td>\n",
       "    </tr>\n",
       "</table>"
      ],
      "text/plain": [
       "[('employees',),\n",
       " ('dept_manager',),\n",
       " ('dept_emp',),\n",
       " ('salaries',),\n",
       " ('uniq_empl',)]"
      ]
     },
     "execution_count": 3,
     "metadata": {},
     "output_type": "execute_result"
    }
   ],
   "source": [
    "%%sql\n",
    "\n",
    "SELECT name FROM sqlite_master"
   ]
  },
  {
   "cell_type": "markdown",
   "metadata": {},
   "source": [
    "1) Выведите первые 10 строк из таблицы dept_emp"
   ]
  },
  {
   "cell_type": "code",
   "execution_count": 4,
   "metadata": {},
   "outputs": [
    {
     "name": "stdout",
     "output_type": "stream",
     "text": [
      " * sqlite:///../../data/EmployeeSQL/EmployeeSQL.db\n",
      "Done.\n"
     ]
    },
    {
     "data": {
      "text/html": [
       "<table>\n",
       "    <tr>\n",
       "        <th>emp_no</th>\n",
       "        <th>dept_name</th>\n",
       "        <th>from_date</th>\n",
       "        <th>to_date</th>\n",
       "    </tr>\n",
       "    <tr>\n",
       "        <td>10001</td>\n",
       "        <td>Development</td>\n",
       "        <td>1986-06-26</td>\n",
       "        <td>9999-01-01</td>\n",
       "    </tr>\n",
       "    <tr>\n",
       "        <td>10002</td>\n",
       "        <td>Sales</td>\n",
       "        <td>1996-08-03</td>\n",
       "        <td>9999-01-01</td>\n",
       "    </tr>\n",
       "    <tr>\n",
       "        <td>10003</td>\n",
       "        <td>Production</td>\n",
       "        <td>1995-12-03</td>\n",
       "        <td>9999-01-01</td>\n",
       "    </tr>\n",
       "    <tr>\n",
       "        <td>10004</td>\n",
       "        <td>Production</td>\n",
       "        <td>1986-12-01</td>\n",
       "        <td>9999-01-01</td>\n",
       "    </tr>\n",
       "    <tr>\n",
       "        <td>10005</td>\n",
       "        <td>Human Resources</td>\n",
       "        <td>1989-09-12</td>\n",
       "        <td>9999-01-01</td>\n",
       "    </tr>\n",
       "    <tr>\n",
       "        <td>10006</td>\n",
       "        <td>Development</td>\n",
       "        <td>1990-08-05</td>\n",
       "        <td>9999-01-01</td>\n",
       "    </tr>\n",
       "    <tr>\n",
       "        <td>10007</td>\n",
       "        <td>Research</td>\n",
       "        <td>1989-02-10</td>\n",
       "        <td>9999-01-01</td>\n",
       "    </tr>\n",
       "    <tr>\n",
       "        <td>10008</td>\n",
       "        <td>Development</td>\n",
       "        <td>1998-03-11</td>\n",
       "        <td>2000-07-31</td>\n",
       "    </tr>\n",
       "    <tr>\n",
       "        <td>10009</td>\n",
       "        <td>Quality Management</td>\n",
       "        <td>1985-02-18</td>\n",
       "        <td>9999-01-01</td>\n",
       "    </tr>\n",
       "    <tr>\n",
       "        <td>10010</td>\n",
       "        <td>Production</td>\n",
       "        <td>1996-11-24</td>\n",
       "        <td>2000-06-26</td>\n",
       "    </tr>\n",
       "</table>"
      ],
      "text/plain": [
       "[(10001, 'Development', '1986-06-26', '9999-01-01'),\n",
       " (10002, 'Sales', '1996-08-03', '9999-01-01'),\n",
       " (10003, 'Production', '1995-12-03', '9999-01-01'),\n",
       " (10004, 'Production', '1986-12-01', '9999-01-01'),\n",
       " (10005, 'Human Resources', '1989-09-12', '9999-01-01'),\n",
       " (10006, 'Development', '1990-08-05', '9999-01-01'),\n",
       " (10007, 'Research', '1989-02-10', '9999-01-01'),\n",
       " (10008, 'Development', '1998-03-11', '2000-07-31'),\n",
       " (10009, 'Quality Management', '1985-02-18', '9999-01-01'),\n",
       " (10010, 'Production', '1996-11-24', '2000-06-26')]"
      ]
     },
     "execution_count": 4,
     "metadata": {},
     "output_type": "execute_result"
    }
   ],
   "source": [
    "%%sql\n",
    "\n",
    "select *\n",
    "from dept_emp\n",
    "limit 10"
   ]
  },
  {
   "cell_type": "markdown",
   "metadata": {},
   "source": [
    "2) Создать таблицу employees_2 на основании employees, где создадите дополнительные столбцы:\n",
    "- месяц рождения (по столбцу birth_date)\n",
    "- год рождения (по столбцу birth_date)\n",
    "\n",
    "Проверьте, создалась ли таблица. Выведите первые 5 строк"
   ]
  },
  {
   "cell_type": "code",
   "execution_count": 5,
   "metadata": {},
   "outputs": [
    {
     "name": "stdout",
     "output_type": "stream",
     "text": [
      " * sqlite:///../../data/EmployeeSQL/EmployeeSQL.db\n",
      "Done.\n",
      "(sqlite3.OperationalError) cannot commit - no transaction is active\n",
      "[SQL: COMMIT;]\n",
      "(Background on this error at: http://sqlalche.me/e/13/e3q8)\n"
     ]
    }
   ],
   "source": [
    "%%sql\n",
    "\n",
    "create table employees_2 as\n",
    "select *,\n",
    "    strftime('%m', birth_date) as month,\n",
    "    strftime('%Y', birth_date) as year\n",
    "from employees;"
   ]
  },
  {
   "cell_type": "code",
   "execution_count": 6,
   "metadata": {},
   "outputs": [
    {
     "name": "stdout",
     "output_type": "stream",
     "text": [
      " * sqlite:///../../data/EmployeeSQL/EmployeeSQL.db\n",
      "Done.\n"
     ]
    },
    {
     "data": {
      "text/html": [
       "<table>\n",
       "    <tr>\n",
       "        <th>emp_no</th>\n",
       "        <th>title</th>\n",
       "        <th>birth_date</th>\n",
       "        <th>first_name</th>\n",
       "        <th>last_name</th>\n",
       "        <th>gender</th>\n",
       "        <th>hire_date</th>\n",
       "        <th>month</th>\n",
       "        <th>year</th>\n",
       "    </tr>\n",
       "    <tr>\n",
       "        <td>10001</td>\n",
       "        <td>Senior Engineer</td>\n",
       "        <td>1953-09-02</td>\n",
       "        <td>Georgi</td>\n",
       "        <td>Facello</td>\n",
       "        <td>M</td>\n",
       "        <td>1986-06-26</td>\n",
       "        <td>09</td>\n",
       "        <td>1953</td>\n",
       "    </tr>\n",
       "    <tr>\n",
       "        <td>10002</td>\n",
       "        <td>Staff</td>\n",
       "        <td>1964-06-02</td>\n",
       "        <td>Bezalel</td>\n",
       "        <td>Simmel</td>\n",
       "        <td>F</td>\n",
       "        <td>1985-11-21</td>\n",
       "        <td>06</td>\n",
       "        <td>1964</td>\n",
       "    </tr>\n",
       "    <tr>\n",
       "        <td>10003</td>\n",
       "        <td>Senior Engineer</td>\n",
       "        <td>1959-12-03</td>\n",
       "        <td>Parto</td>\n",
       "        <td>Bamford</td>\n",
       "        <td>M</td>\n",
       "        <td>1986-08-28</td>\n",
       "        <td>12</td>\n",
       "        <td>1959</td>\n",
       "    </tr>\n",
       "    <tr>\n",
       "        <td>10004</td>\n",
       "        <td>Senior Engineer</td>\n",
       "        <td>1954-05-01</td>\n",
       "        <td>Chirstian</td>\n",
       "        <td>Koblick</td>\n",
       "        <td>M</td>\n",
       "        <td>1986-12-01</td>\n",
       "        <td>05</td>\n",
       "        <td>1954</td>\n",
       "    </tr>\n",
       "    <tr>\n",
       "        <td>10005</td>\n",
       "        <td>Staff</td>\n",
       "        <td>1955-01-21</td>\n",
       "        <td>Kyoichi</td>\n",
       "        <td>Maliniak</td>\n",
       "        <td>M</td>\n",
       "        <td>1989-09-12</td>\n",
       "        <td>01</td>\n",
       "        <td>1955</td>\n",
       "    </tr>\n",
       "</table>"
      ],
      "text/plain": [
       "[(10001, 'Senior Engineer', '1953-09-02', 'Georgi', 'Facello', 'M', '1986-06-26', '09', '1953'),\n",
       " (10002, 'Staff', '1964-06-02', 'Bezalel', 'Simmel', 'F', '1985-11-21', '06', '1964'),\n",
       " (10003, 'Senior Engineer', '1959-12-03', 'Parto', 'Bamford', 'M', '1986-08-28', '12', '1959'),\n",
       " (10004, 'Senior Engineer', '1954-05-01', 'Chirstian', 'Koblick', 'M', '1986-12-01', '05', '1954'),\n",
       " (10005, 'Staff', '1955-01-21', 'Kyoichi', 'Maliniak', 'M', '1989-09-12', '01', '1955')]"
      ]
     },
     "execution_count": 6,
     "metadata": {},
     "output_type": "execute_result"
    }
   ],
   "source": [
    "%%sql\n",
    "\n",
    "select *\n",
    "from employees_2\n",
    "limit 5"
   ]
  },
  {
   "cell_type": "markdown",
   "metadata": {},
   "source": [
    "3) Удалите таблицу employees_2"
   ]
  },
  {
   "cell_type": "code",
   "execution_count": 7,
   "metadata": {},
   "outputs": [
    {
     "name": "stdout",
     "output_type": "stream",
     "text": [
      " * sqlite:///../../data/EmployeeSQL/EmployeeSQL.db\n",
      "Done.\n",
      "(sqlite3.OperationalError) cannot commit - no transaction is active\n",
      "[SQL: COMMIT;]\n",
      "(Background on this error at: http://sqlalche.me/e/13/e3q8)\n"
     ]
    }
   ],
   "source": [
    "%%sql\n",
    "\n",
    "drop table employees_2;\n",
    "COMMIT;"
   ]
  },
  {
   "cell_type": "markdown",
   "metadata": {},
   "source": [
    "4) Найдите всех сотрудников чье имя Georgi. Выведите первые 5 строк"
   ]
  },
  {
   "cell_type": "code",
   "execution_count": 8,
   "metadata": {},
   "outputs": [
    {
     "name": "stdout",
     "output_type": "stream",
     "text": [
      " * sqlite:///../../data/EmployeeSQL/EmployeeSQL.db\n",
      "Done.\n"
     ]
    },
    {
     "data": {
      "text/html": [
       "<table>\n",
       "    <tr>\n",
       "        <th>emp_no</th>\n",
       "        <th>title</th>\n",
       "        <th>birth_date</th>\n",
       "        <th>first_name</th>\n",
       "        <th>last_name</th>\n",
       "        <th>gender</th>\n",
       "        <th>hire_date</th>\n",
       "    </tr>\n",
       "    <tr>\n",
       "        <td>10001</td>\n",
       "        <td>Senior Engineer</td>\n",
       "        <td>1953-09-02</td>\n",
       "        <td>Georgi</td>\n",
       "        <td>Facello</td>\n",
       "        <td>M</td>\n",
       "        <td>1986-06-26</td>\n",
       "    </tr>\n",
       "    <tr>\n",
       "        <td>10909</td>\n",
       "        <td>Senior Engineer</td>\n",
       "        <td>1954-11-11</td>\n",
       "        <td>Georgi</td>\n",
       "        <td>Atchley</td>\n",
       "        <td>M</td>\n",
       "        <td>1985-04-21</td>\n",
       "    </tr>\n",
       "    <tr>\n",
       "        <td>11029</td>\n",
       "        <td>Senior Staff</td>\n",
       "        <td>1962-07-12</td>\n",
       "        <td>Georgi</td>\n",
       "        <td>Itzfeldt</td>\n",
       "        <td>M</td>\n",
       "        <td>1992-12-27</td>\n",
       "    </tr>\n",
       "    <tr>\n",
       "        <td>11430</td>\n",
       "        <td>Staff</td>\n",
       "        <td>1957-01-23</td>\n",
       "        <td>Georgi</td>\n",
       "        <td>Klassen</td>\n",
       "        <td>M</td>\n",
       "        <td>1996-02-27</td>\n",
       "    </tr>\n",
       "    <tr>\n",
       "        <td>12157</td>\n",
       "        <td>Staff</td>\n",
       "        <td>1960-03-30</td>\n",
       "        <td>Georgi</td>\n",
       "        <td>Barinka</td>\n",
       "        <td>M</td>\n",
       "        <td>1985-06-04</td>\n",
       "    </tr>\n",
       "</table>"
      ],
      "text/plain": [
       "[(10001, 'Senior Engineer', '1953-09-02', 'Georgi', 'Facello', 'M', '1986-06-26'),\n",
       " (10909, 'Senior Engineer', '1954-11-11', 'Georgi', 'Atchley', 'M', '1985-04-21'),\n",
       " (11029, 'Senior Staff', '1962-07-12', 'Georgi', 'Itzfeldt', 'M', '1992-12-27'),\n",
       " (11430, 'Staff', '1957-01-23', 'Georgi', 'Klassen', 'M', '1996-02-27'),\n",
       " (12157, 'Staff', '1960-03-30', 'Georgi', 'Barinka', 'M', '1985-06-04')]"
      ]
     },
     "execution_count": 8,
     "metadata": {},
     "output_type": "execute_result"
    }
   ],
   "source": [
    "%%sql\n",
    "\n",
    "select *\n",
    "from employees\n",
    "where first_name = 'Georgi'\n",
    "limit 5"
   ]
  },
  {
   "cell_type": "markdown",
   "metadata": {},
   "source": [
    "5) Найдите всех сотрудников чье имя Georgi, которые до сих пор работают в компании (использовать также таблицу dept_emp, поле to_date = 9999-01-01). \n",
    "\n",
    "Выведите первые 5 строк, содержащих **имя, фамилию, должность, дату начала работы, а также дату окончания работы (из dept_emp)**"
   ]
  },
  {
   "cell_type": "code",
   "execution_count": 9,
   "metadata": {},
   "outputs": [
    {
     "name": "stdout",
     "output_type": "stream",
     "text": [
      " * sqlite:///../../data/EmployeeSQL/EmployeeSQL.db\n",
      "Done.\n"
     ]
    },
    {
     "data": {
      "text/html": [
       "<table>\n",
       "    <tr>\n",
       "        <th>first_name</th>\n",
       "        <th>last_name</th>\n",
       "        <th>title</th>\n",
       "        <th>hire_date</th>\n",
       "        <th>to_date</th>\n",
       "    </tr>\n",
       "    <tr>\n",
       "        <td>Georgi</td>\n",
       "        <td>Facello</td>\n",
       "        <td>Senior Engineer</td>\n",
       "        <td>1986-06-26</td>\n",
       "        <td>9999-01-01</td>\n",
       "    </tr>\n",
       "    <tr>\n",
       "        <td>Georgi</td>\n",
       "        <td>Atchley</td>\n",
       "        <td>Senior Engineer</td>\n",
       "        <td>1985-04-21</td>\n",
       "        <td>9999-01-01</td>\n",
       "    </tr>\n",
       "    <tr>\n",
       "        <td>Georgi</td>\n",
       "        <td>Itzfeldt</td>\n",
       "        <td>Senior Staff</td>\n",
       "        <td>1992-12-27</td>\n",
       "        <td>9999-01-01</td>\n",
       "    </tr>\n",
       "    <tr>\n",
       "        <td>Georgi</td>\n",
       "        <td>Klassen</td>\n",
       "        <td>Staff</td>\n",
       "        <td>1996-02-27</td>\n",
       "        <td>9999-01-01</td>\n",
       "    </tr>\n",
       "    <tr>\n",
       "        <td>Georgi</td>\n",
       "        <td>Barinka</td>\n",
       "        <td>Staff</td>\n",
       "        <td>1985-06-04</td>\n",
       "        <td>9999-01-01</td>\n",
       "    </tr>\n",
       "</table>"
      ],
      "text/plain": [
       "[('Georgi', 'Facello', 'Senior Engineer', '1986-06-26', '9999-01-01'),\n",
       " ('Georgi', 'Atchley', 'Senior Engineer', '1985-04-21', '9999-01-01'),\n",
       " ('Georgi', 'Itzfeldt', 'Senior Staff', '1992-12-27', '9999-01-01'),\n",
       " ('Georgi', 'Klassen', 'Staff', '1996-02-27', '9999-01-01'),\n",
       " ('Georgi', 'Barinka', 'Staff', '1985-06-04', '9999-01-01')]"
      ]
     },
     "execution_count": 9,
     "metadata": {},
     "output_type": "execute_result"
    }
   ],
   "source": [
    "%%sql\n",
    "\n",
    "select e.first_name, e.last_name, e.title, e.hire_date, d.to_date\n",
    "from employees e\n",
    "inner join dept_emp d on e.emp_no = d.emp_no\n",
    "where first_name = 'Georgi'\n",
    "limit 5"
   ]
  },
  {
   "cell_type": "markdown",
   "metadata": {},
   "source": [
    "6) Вывести топ 2 заплаты в каждом департаменте. \n",
    "\n",
    "Подсказка:\n",
    "\n",
    "**Использовать оконные функции**, можно и виртуальные таблицы, аккуратно производите нумерацию, использовать сортировку по убыванию в самой оконной функции, а также JOIN. Если в департаменте несколько похожих зарплат, то учитывать только **уникальное значение**!\n",
    "\n",
    "Пример вывода:\n",
    "\n",
    "| dept_name        | salary|\n",
    "|--------------|-----------|\n",
    "|Customer Service | 1000|\n",
    "|Customer Service | 999|\n",
    "|Development      | 1000|\n",
    "|Development      | 999|"
   ]
  },
  {
   "cell_type": "code",
   "execution_count": 4,
   "metadata": {
    "scrolled": true
   },
   "outputs": [
    {
     "name": "stdout",
     "output_type": "stream",
     "text": [
      " * sqlite:///../../data/EmployeeSQL/EmployeeSQL.db\n",
      "Done.\n"
     ]
    },
    {
     "data": {
      "text/html": [
       "<table>\n",
       "    <tr>\n",
       "        <th>dept_name</th>\n",
       "        <th>salary</th>\n",
       "        <th>rn</th>\n",
       "    </tr>\n",
       "    <tr>\n",
       "        <td>Customer Service</td>\n",
       "        <td>122423</td>\n",
       "        <td>1</td>\n",
       "    </tr>\n",
       "    <tr>\n",
       "        <td>Customer Service</td>\n",
       "        <td>120032</td>\n",
       "        <td>2</td>\n",
       "    </tr>\n",
       "    <tr>\n",
       "        <td>Development</td>\n",
       "        <td>110449</td>\n",
       "        <td>1</td>\n",
       "    </tr>\n",
       "    <tr>\n",
       "        <td>Development</td>\n",
       "        <td>106109</td>\n",
       "        <td>2</td>\n",
       "    </tr>\n",
       "    <tr>\n",
       "        <td>Finance</td>\n",
       "        <td>114784</td>\n",
       "        <td>1</td>\n",
       "    </tr>\n",
       "    <tr>\n",
       "        <td>Finance</td>\n",
       "        <td>113236</td>\n",
       "        <td>2</td>\n",
       "    </tr>\n",
       "    <tr>\n",
       "        <td>Human Resources</td>\n",
       "        <td>110308</td>\n",
       "        <td>1</td>\n",
       "    </tr>\n",
       "    <tr>\n",
       "        <td>Human Resources</td>\n",
       "        <td>101593</td>\n",
       "        <td>2</td>\n",
       "    </tr>\n",
       "    <tr>\n",
       "        <td>Marketing</td>\n",
       "        <td>118250</td>\n",
       "        <td>1</td>\n",
       "    </tr>\n",
       "    <tr>\n",
       "        <td>Marketing</td>\n",
       "        <td>116412</td>\n",
       "        <td>2</td>\n",
       "    </tr>\n",
       "    <tr>\n",
       "        <td>Production</td>\n",
       "        <td>104390</td>\n",
       "        <td>1</td>\n",
       "    </tr>\n",
       "    <tr>\n",
       "        <td>Production</td>\n",
       "        <td>104065</td>\n",
       "        <td>2</td>\n",
       "    </tr>\n",
       "    <tr>\n",
       "        <td>Quality Management</td>\n",
       "        <td>95634</td>\n",
       "        <td>1</td>\n",
       "    </tr>\n",
       "    <tr>\n",
       "        <td>Quality Management</td>\n",
       "        <td>93532</td>\n",
       "        <td>2</td>\n",
       "    </tr>\n",
       "    <tr>\n",
       "        <td>Research</td>\n",
       "        <td>105384</td>\n",
       "        <td>1</td>\n",
       "    </tr>\n",
       "    <tr>\n",
       "        <td>Research</td>\n",
       "        <td>102661</td>\n",
       "        <td>2</td>\n",
       "    </tr>\n",
       "    <tr>\n",
       "        <td>Sales</td>\n",
       "        <td>129492</td>\n",
       "        <td>1</td>\n",
       "    </tr>\n",
       "    <tr>\n",
       "        <td>Sales</td>\n",
       "        <td>127238</td>\n",
       "        <td>2</td>\n",
       "    </tr>\n",
       "</table>"
      ],
      "text/plain": [
       "[('Customer Service', 122423, 1),\n",
       " ('Customer Service', 120032, 2),\n",
       " ('Development', 110449, 1),\n",
       " ('Development', 106109, 2),\n",
       " ('Finance', 114784, 1),\n",
       " ('Finance', 113236, 2),\n",
       " ('Human Resources', 110308, 1),\n",
       " ('Human Resources', 101593, 2),\n",
       " ('Marketing', 118250, 1),\n",
       " ('Marketing', 116412, 2),\n",
       " ('Production', 104390, 1),\n",
       " ('Production', 104065, 2),\n",
       " ('Quality Management', 95634, 1),\n",
       " ('Quality Management', 93532, 2),\n",
       " ('Research', 105384, 1),\n",
       " ('Research', 102661, 2),\n",
       " ('Sales', 129492, 1),\n",
       " ('Sales', 127238, 2)]"
      ]
     },
     "execution_count": 4,
     "metadata": {},
     "output_type": "execute_result"
    }
   ],
   "source": [
    "%%sql\n",
    "\n",
    "\n",
    "with max_salary as (\n",
    "    select distinct d.dept_name, s.salary,\n",
    "    DENSE_RANK() OVER (PARTITION BY d.dept_name ORDER BY s.salary desc) as rn\n",
    "    from dept_emp d\n",
    "    inner join salaries s on d.emp_no = s.emp_no\n",
    ")\n",
    "select *\n",
    "from max_salary\n",
    "where rn <= 2"
   ]
  },
  {
   "cell_type": "markdown",
   "metadata": {},
   "source": [
    "7) Найдите 2 по счету максимальную зарплату **среди менеджеров** **двумя способами обязательно!**:\n",
    "- с использованием подзапроса\n",
    "- с использованием limit\n",
    "\n",
    "Вывести id менеджера и значение зарплаты"
   ]
  },
  {
   "cell_type": "code",
   "execution_count": 11,
   "metadata": {},
   "outputs": [
    {
     "name": "stdout",
     "output_type": "stream",
     "text": [
      " * sqlite:///../../data/EmployeeSQL/EmployeeSQL.db\n",
      "Done.\n"
     ]
    },
    {
     "data": {
      "text/html": [
       "<table>\n",
       "    <tr>\n",
       "        <th>emp_no</th>\n",
       "        <th>max(s.salary)</th>\n",
       "    </tr>\n",
       "    <tr>\n",
       "        <td>111035</td>\n",
       "        <td>71612</td>\n",
       "    </tr>\n",
       "</table>"
      ],
      "text/plain": [
       "[(111035, 71612)]"
      ]
     },
     "execution_count": 11,
     "metadata": {},
     "output_type": "execute_result"
    }
   ],
   "source": [
    "%%sql\n",
    "\n",
    "\n",
    "select distinct d.emp_no, max(s.salary)\n",
    "from dept_manager d\n",
    "inner join salaries s on d.emp_no = s.emp_no\n",
    "where s.salary not in (\n",
    "                        select max(s.salary)\n",
    "                        from dept_manager d\n",
    "                        inner join salaries s on d.emp_no = s.emp_no                        \n",
    ")"
   ]
  },
  {
   "cell_type": "code",
   "execution_count": 12,
   "metadata": {},
   "outputs": [
    {
     "name": "stdout",
     "output_type": "stream",
     "text": [
      " * sqlite:///../../data/EmployeeSQL/EmployeeSQL.db\n",
      "Done.\n"
     ]
    },
    {
     "data": {
      "text/html": [
       "<table>\n",
       "    <tr>\n",
       "        <th>emp_no</th>\n",
       "        <th>salary</th>\n",
       "    </tr>\n",
       "    <tr>\n",
       "        <td>111035</td>\n",
       "        <td>71612</td>\n",
       "    </tr>\n",
       "</table>"
      ],
      "text/plain": [
       "[(111035, 71612)]"
      ]
     },
     "execution_count": 12,
     "metadata": {},
     "output_type": "execute_result"
    }
   ],
   "source": [
    "%%sql\n",
    "\n",
    "\n",
    "select distinct d.emp_no, s.salary\n",
    "from dept_manager d\n",
    "inner join salaries s on d.emp_no = s.emp_no\n",
    "order by s.salary desc\n",
    "limit 1, 1"
   ]
  },
  {
   "cell_type": "markdown",
   "metadata": {},
   "source": [
    "8) Вывести среднюю зарплату и название тех депаратаментов (dept_emp), где **среднее значение зарплаты** больше 50000\n",
    "\n",
    "\n",
    "Пример вывода:\n",
    "\n",
    "|dept_name        | avg salary|\n",
    "|------|------|\n",
    "|Customer Service | 51000|\n",
    "|Development      | 50500|"
   ]
  },
  {
   "cell_type": "code",
   "execution_count": 13,
   "metadata": {},
   "outputs": [
    {
     "name": "stdout",
     "output_type": "stream",
     "text": [
      " * sqlite:///../../data/EmployeeSQL/EmployeeSQL.db\n",
      "Done.\n"
     ]
    },
    {
     "data": {
      "text/html": [
       "<table>\n",
       "    <tr>\n",
       "        <th>dept_name</th>\n",
       "        <th>avg(s.salary)</th>\n",
       "    </tr>\n",
       "    <tr>\n",
       "        <td>Finance</td>\n",
       "        <td>59533.51654560129</td>\n",
       "    </tr>\n",
       "    <tr>\n",
       "        <td>Marketing</td>\n",
       "        <td>61095.89738261343</td>\n",
       "    </tr>\n",
       "    <tr>\n",
       "        <td>Sales</td>\n",
       "        <td>69832.12715092354</td>\n",
       "    </tr>\n",
       "</table>"
      ],
      "text/plain": [
       "[('Finance', 59533.51654560129),\n",
       " ('Marketing', 61095.89738261343),\n",
       " ('Sales', 69832.12715092354)]"
      ]
     },
     "execution_count": 13,
     "metadata": {},
     "output_type": "execute_result"
    }
   ],
   "source": [
    "%%sql\n",
    "\n",
    "select d.dept_name, avg(s.salary) avg_salary\n",
    "from dept_emp d\n",
    "inner join salaries s on d.emp_no = s.emp_no\n",
    "group by d.dept_name\n",
    "having avg(s.salary) > 50000"
   ]
  },
  {
   "cell_type": "markdown",
   "metadata": {},
   "source": [
    "9) Выведите среднюю зарплату **по всем сотрудникам** и округлите при помощи round()"
   ]
  },
  {
   "cell_type": "code",
   "execution_count": 18,
   "metadata": {},
   "outputs": [
    {
     "name": "stdout",
     "output_type": "stream",
     "text": [
      " * sqlite:///../../data/EmployeeSQL/EmployeeSQL.db\n",
      "Done.\n"
     ]
    },
    {
     "data": {
      "text/html": [
       "<table>\n",
       "    <tr>\n",
       "        <th>round(avg(salary))</th>\n",
       "    </tr>\n",
       "    <tr>\n",
       "        <td>52971.0</td>\n",
       "    </tr>\n",
       "</table>"
      ],
      "text/plain": [
       "[(52971.0,)]"
      ]
     },
     "execution_count": 18,
     "metadata": {},
     "output_type": "execute_result"
    }
   ],
   "source": [
    "%%sql\n",
    "\n",
    "select round(avg(salary))\n",
    "from salaries"
   ]
  },
  {
   "cell_type": "markdown",
   "metadata": {},
   "source": [
    "10) Выведите первые 10 строк:\n",
    "- id сотрудника (относится ко всем сотрудникам)\n",
    "- Имя сотрудника\n",
    "- Фамилию сотрудника\n",
    "- Должность\n",
    "- Департамент\n",
    "- Зарплату (иметь в виду, что это число, а не строка)\n",
    "- Дату начала работы в департаменте\n",
    "- Дату окончания работы в департаменте\n",
    "- **Флаг** того, что человек работает в данном депаратаменте (**если стоит дата 9999-01-01, то человек продолжает работать и ставим 1, иначе 0 (то есть уже не работает)**)\n",
    "- Флаг того, что его зарплата выше средней, если **1 - выше средней или равно, иначе 0** (значение расчитано в задании 9, можно скопировать значение руками)\n",
    "\n",
    "Используйте CASE"
   ]
  },
  {
   "cell_type": "code",
   "execution_count": 26,
   "metadata": {},
   "outputs": [
    {
     "name": "stdout",
     "output_type": "stream",
     "text": [
      " * sqlite:///../../data/EmployeeSQL/EmployeeSQL.db\n",
      "Done.\n"
     ]
    },
    {
     "data": {
      "text/html": [
       "<table>\n",
       "    <tr>\n",
       "        <th>emp_no</th>\n",
       "        <th>first_name</th>\n",
       "        <th>last_name</th>\n",
       "        <th>title</th>\n",
       "        <th>dept_name</th>\n",
       "        <th>salary</th>\n",
       "        <th>from_date</th>\n",
       "        <th>to_date</th>\n",
       "        <th>flg_end</th>\n",
       "        <th>flg_sal</th>\n",
       "    </tr>\n",
       "    <tr>\n",
       "        <td>10001</td>\n",
       "        <td>Georgi</td>\n",
       "        <td>Facello</td>\n",
       "        <td>Senior Engineer</td>\n",
       "        <td>Development</td>\n",
       "        <td>60117</td>\n",
       "        <td>1986-06-26</td>\n",
       "        <td>9999-01-01</td>\n",
       "        <td>1</td>\n",
       "        <td>1</td>\n",
       "    </tr>\n",
       "    <tr>\n",
       "        <td>55649</td>\n",
       "        <td>Georgi</td>\n",
       "        <td>Facello</td>\n",
       "        <td>Senior Engineer</td>\n",
       "        <td>Quality Management</td>\n",
       "        <td>51154</td>\n",
       "        <td>1993-07-02</td>\n",
       "        <td>1995-04-27</td>\n",
       "        <td>0</td>\n",
       "        <td>0</td>\n",
       "    </tr>\n",
       "</table>"
      ],
      "text/plain": [
       "[(10001, 'Georgi', 'Facello', 'Senior Engineer', 'Development', 60117, '1986-06-26', '9999-01-01', 1, 1),\n",
       " (55649, 'Georgi', 'Facello', 'Senior Engineer', 'Quality Management', 51154, '1993-07-02', '1995-04-27', 0, 0)]"
      ]
     },
     "execution_count": 26,
     "metadata": {},
     "output_type": "execute_result"
    }
   ],
   "source": [
    "%%sql\n",
    "\n",
    "select e.emp_no, e.first_name, e.last_name, e.title, d.dept_name, s.salary, \n",
    "d.from_date, d.to_date,\n",
    "case when to_date = '9999-01-01' then 1 else 0 end as flg_end,\n",
    "case when salary > 52971 then 1 else 0 end as flg_sal\n",
    "\n",
    "from employees e\n",
    "    inner join dept_emp d on e.emp_no = d.emp_no\n",
    "    inner join salaries s on e.emp_no = s.emp_no\n",
    "\n",
    "where last_name='Facello' and first_name='Georgi'\n",
    "limit 10"
   ]
  },
  {
   "cell_type": "markdown",
   "metadata": {},
   "source": [
    "11) Найдите **кол-во** уникальных сотрудников **в каждом департаменте** в разрезе **должности**\n",
    "\n",
    "Пример вывода:\n",
    "\n",
    "|dept_name\t| title\t| count_emp|\n",
    "|------|-----|----|\n",
    "|Development\t| Engineer |\t20|\n",
    "|Development\t| Staff    |\t10|"
   ]
  },
  {
   "cell_type": "code",
   "execution_count": null,
   "metadata": {},
   "outputs": [],
   "source": [
    "# Ваш код"
   ]
  },
  {
   "cell_type": "code",
   "execution_count": 3,
   "metadata": {},
   "outputs": [
    {
     "name": "stdout",
     "output_type": "stream",
     "text": [
      " * sqlite:///../../data/EmployeeSQL/EmployeeSQL.db\n",
      "Done.\n"
     ]
    },
    {
     "data": {
      "text/html": [
       "<table>\n",
       "    <tr>\n",
       "        <th>dept_name</th>\n",
       "        <th>title</th>\n",
       "        <th>cnt</th>\n",
       "    </tr>\n",
       "    <tr>\n",
       "        <td>Customer Service</td>\n",
       "        <td>Assistant Engineer</td>\n",
       "        <td>108</td>\n",
       "    </tr>\n",
       "    <tr>\n",
       "        <td>Customer Service</td>\n",
       "        <td>Engineer</td>\n",
       "        <td>944</td>\n",
       "    </tr>\n",
       "    <tr>\n",
       "        <td>Customer Service</td>\n",
       "        <td>Manager</td>\n",
       "        <td>4</td>\n",
       "    </tr>\n",
       "    <tr>\n",
       "        <td>Customer Service</td>\n",
       "        <td>Senior Engineer</td>\n",
       "        <td>2027</td>\n",
       "    </tr>\n",
       "    <tr>\n",
       "        <td>Customer Service</td>\n",
       "        <td>Senior Staff</td>\n",
       "        <td>4041</td>\n",
       "    </tr>\n",
       "    <tr>\n",
       "        <td>Customer Service</td>\n",
       "        <td>Staff</td>\n",
       "        <td>16147</td>\n",
       "    </tr>\n",
       "    <tr>\n",
       "        <td>Customer Service</td>\n",
       "        <td>Technique Leader</td>\n",
       "        <td>309</td>\n",
       "    </tr>\n",
       "    <tr>\n",
       "        <td>Development</td>\n",
       "        <td>Assistant Engineer</td>\n",
       "        <td>2987</td>\n",
       "    </tr>\n",
       "    <tr>\n",
       "        <td>Development</td>\n",
       "        <td>Engineer</td>\n",
       "        <td>23938</td>\n",
       "    </tr>\n",
       "    <tr>\n",
       "        <td>Development</td>\n",
       "        <td>Manager</td>\n",
       "        <td>2</td>\n",
       "    </tr>\n",
       "</table>"
      ],
      "text/plain": [
       "[('Customer Service', 'Assistant Engineer', 108),\n",
       " ('Customer Service', 'Engineer', 944),\n",
       " ('Customer Service', 'Manager', 4),\n",
       " ('Customer Service', 'Senior Engineer', 2027),\n",
       " ('Customer Service', 'Senior Staff', 4041),\n",
       " ('Customer Service', 'Staff', 16147),\n",
       " ('Customer Service', 'Technique Leader', 309),\n",
       " ('Development', 'Assistant Engineer', 2987),\n",
       " ('Development', 'Engineer', 23938),\n",
       " ('Development', 'Manager', 2)]"
      ]
     },
     "execution_count": 3,
     "metadata": {},
     "output_type": "execute_result"
    }
   ],
   "source": [
    "%%sql\n",
    "\n",
    "select d.dept_name, e.title, count(e.emp_no) as cnt\n",
    "from employees e\n",
    "inner join dept_emp d on e.emp_no = d.emp_no\n",
    "GROUP BY d.dept_name, e.title\n",
    "limit 10"
   ]
  },
  {
   "cell_type": "code",
   "execution_count": 8,
   "metadata": {},
   "outputs": [
    {
     "name": "stdout",
     "output_type": "stream",
     "text": [
      " * sqlite:///../../data/EmployeeSQL/EmployeeSQL.db\n",
      "Done.\n"
     ]
    },
    {
     "data": {
      "text/html": [
       "<table>\n",
       "    <tr>\n",
       "        <th>dept_name</th>\n",
       "        <th>title</th>\n",
       "        <th>count_emp</th>\n",
       "    </tr>\n",
       "    <tr>\n",
       "        <td>Customer Service</td>\n",
       "        <td>Assistant Engineer</td>\n",
       "        <td>108</td>\n",
       "    </tr>\n",
       "    <tr>\n",
       "        <td>Customer Service</td>\n",
       "        <td>Engineer</td>\n",
       "        <td>944</td>\n",
       "    </tr>\n",
       "    <tr>\n",
       "        <td>Customer Service</td>\n",
       "        <td>Manager</td>\n",
       "        <td>4</td>\n",
       "    </tr>\n",
       "    <tr>\n",
       "        <td>Customer Service</td>\n",
       "        <td>Senior Engineer</td>\n",
       "        <td>2027</td>\n",
       "    </tr>\n",
       "    <tr>\n",
       "        <td>Customer Service</td>\n",
       "        <td>Senior Staff</td>\n",
       "        <td>4041</td>\n",
       "    </tr>\n",
       "    <tr>\n",
       "        <td>Customer Service</td>\n",
       "        <td>Staff</td>\n",
       "        <td>16147</td>\n",
       "    </tr>\n",
       "    <tr>\n",
       "        <td>Customer Service</td>\n",
       "        <td>Technique Leader</td>\n",
       "        <td>309</td>\n",
       "    </tr>\n",
       "    <tr>\n",
       "        <td>Development</td>\n",
       "        <td>Assistant Engineer</td>\n",
       "        <td>2987</td>\n",
       "    </tr>\n",
       "    <tr>\n",
       "        <td>Development</td>\n",
       "        <td>Engineer</td>\n",
       "        <td>23938</td>\n",
       "    </tr>\n",
       "    <tr>\n",
       "        <td>Development</td>\n",
       "        <td>Manager</td>\n",
       "        <td>2</td>\n",
       "    </tr>\n",
       "</table>"
      ],
      "text/plain": [
       "[('Customer Service', 'Assistant Engineer', 108),\n",
       " ('Customer Service', 'Engineer', 944),\n",
       " ('Customer Service', 'Manager', 4),\n",
       " ('Customer Service', 'Senior Engineer', 2027),\n",
       " ('Customer Service', 'Senior Staff', 4041),\n",
       " ('Customer Service', 'Staff', 16147),\n",
       " ('Customer Service', 'Technique Leader', 309),\n",
       " ('Development', 'Assistant Engineer', 2987),\n",
       " ('Development', 'Engineer', 23938),\n",
       " ('Development', 'Manager', 2)]"
      ]
     },
     "execution_count": 8,
     "metadata": {},
     "output_type": "execute_result"
    }
   ],
   "source": [
    "%%sql\n",
    "select distinct d.dept_name, e.title, count(e.emp_no) over (\n",
    "                                       partition by d.dept_name, e.title) as count_emp\n",
    "from dept_emp as d\n",
    "inner join employees as e on d.emp_no = e.emp_no\n",
    "limit 10"
   ]
  },
  {
   "cell_type": "code",
   "execution_count": 10,
   "metadata": {},
   "outputs": [
    {
     "name": "stdout",
     "output_type": "stream",
     "text": [
      " * sqlite:///../../data/EmployeeSQL/EmployeeSQL.db\n",
      "Done.\n"
     ]
    },
    {
     "data": {
      "text/html": [
       "<table>\n",
       "    <tr>\n",
       "        <th>cnt</th>\n",
       "    </tr>\n",
       "    <tr>\n",
       "        <td>300024</td>\n",
       "    </tr>\n",
       "</table>"
      ],
      "text/plain": [
       "[(300024,)]"
      ]
     },
     "execution_count": 10,
     "metadata": {},
     "output_type": "execute_result"
    }
   ],
   "source": [
    "%%sql\n",
    "\n",
    "select count(distinct e.emp_no) as cnt\n",
    "from employees e"
   ]
  },
  {
   "cell_type": "code",
   "execution_count": null,
   "metadata": {},
   "outputs": [],
   "source": []
  }
 ],
 "metadata": {
  "hide_input": false,
  "kernelspec": {
   "display_name": "Python 3",
   "language": "python",
   "name": "python3"
  },
  "language_info": {
   "codemirror_mode": {
    "name": "ipython",
    "version": 3
   },
   "file_extension": ".py",
   "mimetype": "text/x-python",
   "name": "python",
   "nbconvert_exporter": "python",
   "pygments_lexer": "ipython3",
   "version": "3.8.8"
  },
  "toc": {
   "base_numbering": 1,
   "nav_menu": {},
   "number_sections": true,
   "sideBar": true,
   "skip_h1_title": false,
   "title_cell": "Table of Contents",
   "title_sidebar": "Contents",
   "toc_cell": false,
   "toc_position": {},
   "toc_section_display": true,
   "toc_window_display": false
  }
 },
 "nbformat": 4,
 "nbformat_minor": 4
}
